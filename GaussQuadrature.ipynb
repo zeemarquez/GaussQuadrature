{
  "nbformat": 4,
  "nbformat_minor": 0,
  "metadata": {
    "colab": {
      "name": "Gauss Quadrature.ipynb",
      "provenance": [],
      "collapsed_sections": [],
      "authorship_tag": "ABX9TyNTP9ApQmiThblTksStnlwh",
      "include_colab_link": true
    },
    "kernelspec": {
      "name": "python3",
      "display_name": "Python 3"
    },
    "language_info": {
      "name": "python"
    }
  },
  "cells": [
    {
      "cell_type": "markdown",
      "metadata": {
        "id": "view-in-github",
        "colab_type": "text"
      },
      "source": [
        "<a href=\"https://colab.research.google.com/github/zeemarquez/GaussQuadrature/blob/main/GaussQuadrature.ipynb\" target=\"_parent\"><img src=\"https://colab.research.google.com/assets/colab-badge.svg\" alt=\"Open In Colab\"/></a>"
      ]
    },
    {
      "cell_type": "code",
      "metadata": {
        "colab": {
          "base_uri": "https://localhost:8080/"
        },
        "id": "B1E35jMmA29I",
        "outputId": "814bc57e-e794-4a42-ce3f-bc279ee65083"
      },
      "source": [
        "!pip install sympy"
      ],
      "execution_count": null,
      "outputs": [
        {
          "output_type": "stream",
          "name": "stdout",
          "text": [
            "Requirement already satisfied: sympy in /usr/local/lib/python3.7/dist-packages (1.7.1)\n",
            "Requirement already satisfied: mpmath>=0.19 in /usr/local/lib/python3.7/dist-packages (from sympy) (1.2.1)\n"
          ]
        }
      ]
    },
    {
      "cell_type": "code",
      "metadata": {
        "id": "0DiF0wWnyKNl"
      },
      "source": [
        "import numpy as np\n",
        "import sympy as sp\n",
        "from IPython.display import display, Math"
      ],
      "execution_count": null,
      "outputs": []
    },
    {
      "cell_type": "code",
      "metadata": {
        "id": "7BGJTXV13ze1"
      },
      "source": [
        "def f(a,b,C,e):\n",
        "  f = 0\n",
        "  n = 0\n",
        "  for c in C:\n",
        "    f += c*((0.5*(a+b) + 0.5*e*(b-a))**n)\n",
        "    n += 1\n",
        "  return f\n",
        "\n",
        "def gauss(a,b,C):\n",
        "  p = len(C)\n",
        "  n = int((p+1)/2)\n",
        "  points , weights = np.polynomial.legendre.leggauss(n)\n",
        "  J = (b-a)/2\n",
        "  sum = 0\n",
        "  for w,e in zip(weights,points):\n",
        "    sum += w*f(a,b,C,e)\n",
        "  return J*sum\n"
      ],
      "execution_count": null,
      "outputs": []
    },
    {
      "cell_type": "code",
      "metadata": {
        "cellView": "form",
        "id": "rkQCZnmoTUOD"
      },
      "source": [
        "#@title Input function to integrate\n",
        "function = \"2*x**2 + 3*x\" #@param {type:\"string\"}\n"
      ],
      "execution_count": null,
      "outputs": []
    },
    {
      "cell_type": "code",
      "metadata": {
        "id": "jpfhiL5g9Pdk",
        "cellView": "form"
      },
      "source": [
        "#@title Integral boundries\n",
        "a = 2 #@param {type:\"number\"}\n",
        "b =  6#@param {type:\"number\"}"
      ],
      "execution_count": null,
      "outputs": []
    },
    {
      "cell_type": "code",
      "metadata": {
        "colab": {
          "base_uri": "https://localhost:8080/",
          "height": 40
        },
        "id": "RyaNm_m6I1it",
        "outputId": "654cf86d-d4b2-4bb4-9a71-9045cc942351"
      },
      "source": [
        "Math('$\\int_{'+str(a)+'}^{'+str(b)+'}(' + str(sp.expand(function)).replace('**','^').replace('*','') + ') dx$')"
      ],
      "execution_count": null,
      "outputs": [
        {
          "output_type": "execute_result",
          "data": {
            "text/latex": "$$\\int_{2}^{6}(2x^2 + 3x) dx$$",
            "text/plain": [
              "<IPython.core.display.Math object>"
            ]
          },
          "metadata": {},
          "execution_count": 21
        }
      ]
    },
    {
      "cell_type": "code",
      "metadata": {
        "id": "T7LqqwUx_EIW",
        "colab": {
          "base_uri": "https://localhost:8080/",
          "height": 232
        },
        "outputId": "b118b7fc-241c-4ee9-ea77-52dc9c68b1f4"
      },
      "source": [
        "#x**3 - 10*x**2 + 25*x + 3\n",
        "expanded = str(sp.expand(function))\n",
        "expanded = expanded.replace('-','+ -')\n",
        "expanded = expanded.split('+')\n",
        "\n",
        "if len(expanded[0].split('x**'))\n",
        "\n",
        "p = int(expanded[0].split('x**')[1])\n",
        "coefficients = [0 for x in range(p+1)]\n",
        "\n",
        "\n",
        "for e in expanded:\n",
        "  e = e.replace(' ','')\n",
        "  x_split = e.split('x')\n",
        "  if len(x_split) == 1:\n",
        "    coefficients[0] = float(e)\n",
        "  else:\n",
        "    if not '**' in x_split[1]:\n",
        "      n = 1\n",
        "    else:\n",
        "      n = int(x_split[1].replace('**',''))\n",
        "    if x_split[0] == '':\n",
        "      c = 1\n",
        "    else:\n",
        "      c = float(x_split[0].replace('*',''))\n",
        "    \n",
        "    coefficients[n] = c\n",
        "\n",
        "C = coefficients\n"
      ],
      "execution_count": null,
      "outputs": [
        {
          "output_type": "error",
          "ename": "IndexError",
          "evalue": "ignored",
          "traceback": [
            "\u001b[0;31m---------------------------------------------------------------------------\u001b[0m",
            "\u001b[0;31mIndexError\u001b[0m                                Traceback (most recent call last)",
            "\u001b[0;32m<ipython-input-18-a2fce9fe646e>\u001b[0m in \u001b[0;36m<module>\u001b[0;34m()\u001b[0m\n\u001b[1;32m      4\u001b[0m \u001b[0mexpanded\u001b[0m \u001b[0;34m=\u001b[0m \u001b[0mexpanded\u001b[0m\u001b[0;34m.\u001b[0m\u001b[0msplit\u001b[0m\u001b[0;34m(\u001b[0m\u001b[0;34m'+'\u001b[0m\u001b[0;34m)\u001b[0m\u001b[0;34m\u001b[0m\u001b[0;34m\u001b[0m\u001b[0m\n\u001b[1;32m      5\u001b[0m \u001b[0;34m\u001b[0m\u001b[0m\n\u001b[0;32m----> 6\u001b[0;31m \u001b[0mp\u001b[0m \u001b[0;34m=\u001b[0m \u001b[0mint\u001b[0m\u001b[0;34m(\u001b[0m\u001b[0mexpanded\u001b[0m\u001b[0;34m[\u001b[0m\u001b[0;36m0\u001b[0m\u001b[0;34m]\u001b[0m\u001b[0;34m.\u001b[0m\u001b[0msplit\u001b[0m\u001b[0;34m(\u001b[0m\u001b[0;34m'x**'\u001b[0m\u001b[0;34m)\u001b[0m\u001b[0;34m[\u001b[0m\u001b[0;36m1\u001b[0m\u001b[0;34m]\u001b[0m\u001b[0;34m)\u001b[0m\u001b[0;34m\u001b[0m\u001b[0;34m\u001b[0m\u001b[0m\n\u001b[0m\u001b[1;32m      7\u001b[0m \u001b[0mcoefficients\u001b[0m \u001b[0;34m=\u001b[0m \u001b[0;34m[\u001b[0m\u001b[0;36m0\u001b[0m \u001b[0;32mfor\u001b[0m \u001b[0mx\u001b[0m \u001b[0;32min\u001b[0m \u001b[0mrange\u001b[0m\u001b[0;34m(\u001b[0m\u001b[0mp\u001b[0m\u001b[0;34m+\u001b[0m\u001b[0;36m1\u001b[0m\u001b[0;34m)\u001b[0m\u001b[0;34m]\u001b[0m\u001b[0;34m\u001b[0m\u001b[0;34m\u001b[0m\u001b[0m\n\u001b[1;32m      8\u001b[0m \u001b[0;34m\u001b[0m\u001b[0m\n",
            "\u001b[0;31mIndexError\u001b[0m: list index out of range"
          ]
        }
      ]
    },
    {
      "cell_type": "code",
      "metadata": {
        "id": "_CHZrx8b5UFG"
      },
      "source": [
        "gauss(a,b,C)"
      ],
      "execution_count": null,
      "outputs": []
    },
    {
      "cell_type": "code",
      "metadata": {
        "id": "h3N4burQcEZg"
      },
      "source": [
        "sp.expand(\"(x-4)*(x-6)\")"
      ],
      "execution_count": null,
      "outputs": []
    }
  ]
}