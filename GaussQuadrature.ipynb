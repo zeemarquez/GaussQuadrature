{
  "nbformat": 4,
  "nbformat_minor": 0,
  "metadata": {
    "colab": {
      "name": "Gauss Quadrature.ipynb",
      "provenance": [],
      "collapsed_sections": [],
      "authorship_tag": "ABX9TyNBy6GhzKKeL+KEfBJbjP47",
      "include_colab_link": true
    },
    "kernelspec": {
      "name": "python3",
      "display_name": "Python 3"
    },
    "language_info": {
      "name": "python"
    }
  },
  "cells": [
    {
      "cell_type": "markdown",
      "metadata": {
        "id": "view-in-github",
        "colab_type": "text"
      },
      "source": [
        "<a href=\"https://colab.research.google.com/github/zeemarquez/GaussQuadrature/blob/main/GaussQuadrature.ipynb\" target=\"_parent\"><img src=\"https://colab.research.google.com/assets/colab-badge.svg\" alt=\"Open In Colab\"/></a>"
      ]
    },
    {
      "cell_type": "code",
      "metadata": {
        "colab": {
          "base_uri": "https://localhost:8080/"
        },
        "id": "B1E35jMmA29I",
        "outputId": "5150ad02-d8dd-4320-cb6d-ac0deed7c6b0"
      },
      "source": [
        "!pip install sympy"
      ],
      "execution_count": 1,
      "outputs": [
        {
          "output_type": "stream",
          "name": "stdout",
          "text": [
            "Requirement already satisfied: sympy in /usr/local/lib/python3.7/dist-packages (1.7.1)\n",
            "Requirement already satisfied: mpmath>=0.19 in /usr/local/lib/python3.7/dist-packages (from sympy) (1.2.1)\n"
          ]
        }
      ]
    },
    {
      "cell_type": "code",
      "metadata": {
        "id": "0DiF0wWnyKNl"
      },
      "source": [
        "import numpy as np\n",
        "import sympy as sp\n",
        "from IPython.display import display, Math"
      ],
      "execution_count": 2,
      "outputs": []
    },
    {
      "cell_type": "code",
      "metadata": {
        "id": "7BGJTXV13ze1"
      },
      "source": [
        "def f(a,b,C,e):\n",
        "  f = 0\n",
        "  n = 0\n",
        "  for c in C:\n",
        "    f += c*((0.5*(a+b) + 0.5*e*(b-a))**n)\n",
        "    n += 1\n",
        "  return f\n",
        "\n",
        "def gauss(a,b,C):\n",
        "  p = len(C)\n",
        "  n = int((p+1)/2)\n",
        "  points , weights = np.polynomial.legendre.leggauss(n)\n",
        "  J = (b-a)/2\n",
        "  sum = 0\n",
        "  for w,e in zip(weights,points):\n",
        "    sum += w*f(a,b,C,e)\n",
        "  return J*sum\n"
      ],
      "execution_count": 3,
      "outputs": []
    },
    {
      "cell_type": "code",
      "metadata": {
        "cellView": "form",
        "id": "rkQCZnmoTUOD"
      },
      "source": [
        "#@title Input function to integrate\n",
        "function = \"2*x**2 + 3*x\" #@param {type:\"string\"}\n"
      ],
      "execution_count": 4,
      "outputs": []
    },
    {
      "cell_type": "code",
      "metadata": {
        "id": "jpfhiL5g9Pdk",
        "cellView": "form"
      },
      "source": [
        "#@title Integral boundries\n",
        "a = 2 #@param {type:\"number\"}\n",
        "b =  6#@param {type:\"number\"}"
      ],
      "execution_count": 5,
      "outputs": []
    },
    {
      "cell_type": "code",
      "metadata": {
        "colab": {
          "base_uri": "https://localhost:8080/",
          "height": 40
        },
        "id": "RyaNm_m6I1it",
        "outputId": "6c55d2ea-79be-42af-f217-553d52c3e9ef"
      },
      "source": [
        "Math('$\\int_{'+str(a)+'}^{'+str(b)+'}(' + str(sp.expand(function)).replace('**','^').replace('*','') + ') dx$')"
      ],
      "execution_count": 6,
      "outputs": [
        {
          "output_type": "execute_result",
          "data": {
            "text/plain": [
              "<IPython.core.display.Math object>"
            ],
            "text/latex": "$$\\int_{2}^{6}(2x^2 + 3x) dx$$"
          },
          "metadata": {},
          "execution_count": 6
        }
      ]
    },
    {
      "cell_type": "code",
      "metadata": {
        "id": "T7LqqwUx_EIW"
      },
      "source": [
        "#x**3 - 10*x**2 + 25*x + 3\n",
        "expanded = str(sp.expand(function))\n",
        "expanded = expanded.replace('-','+ -')\n",
        "expanded = expanded.split('+')\n",
        "\n",
        "\n",
        "p = int(expanded[0].split('x**')[1])\n",
        "coefficients = [0 for x in range(p+1)]\n",
        "\n",
        "\n",
        "for e in expanded:\n",
        "  e = e.replace(' ','')\n",
        "  x_split = e.split('x')\n",
        "  if len(x_split) == 1:\n",
        "    coefficients[0] = float(e)\n",
        "  else:\n",
        "    if not '**' in x_split[1]:\n",
        "      n = 1\n",
        "    else:\n",
        "      n = int(x_split[1].replace('**',''))\n",
        "    if x_split[0] == '':\n",
        "      c = 1\n",
        "    else:\n",
        "      c = float(x_split[0].replace('*',''))\n",
        "    \n",
        "    coefficients[n] = c\n",
        "\n",
        "C = coefficients\n"
      ],
      "execution_count": 8,
      "outputs": []
    },
    {
      "cell_type": "code",
      "metadata": {
        "id": "_CHZrx8b5UFG",
        "colab": {
          "base_uri": "https://localhost:8080/"
        },
        "outputId": "6696fad3-7d09-4ead-f3d2-74099ae40eaa"
      },
      "source": [
        "gauss(a,b,C)"
      ],
      "execution_count": 9,
      "outputs": [
        {
          "output_type": "execute_result",
          "data": {
            "text/plain": [
              "186.66666666666669"
            ]
          },
          "metadata": {},
          "execution_count": 9
        }
      ]
    },
    {
      "cell_type": "code",
      "metadata": {
        "id": "h3N4burQcEZg",
        "colab": {
          "base_uri": "https://localhost:8080/",
          "height": 39
        },
        "outputId": "48a9d6d6-f608-4851-c596-c4a1c565f1a9"
      },
      "source": [
        "sp.expand(\"(x-4)*(x-6)\")"
      ],
      "execution_count": 10,
      "outputs": [
        {
          "output_type": "execute_result",
          "data": {
            "text/plain": [
              "x**2 - 10*x + 24"
            ],
            "text/latex": "$\\displaystyle x^{2} - 10 x + 24$"
          },
          "metadata": {},
          "execution_count": 10
        }
      ]
    }
  ]
}